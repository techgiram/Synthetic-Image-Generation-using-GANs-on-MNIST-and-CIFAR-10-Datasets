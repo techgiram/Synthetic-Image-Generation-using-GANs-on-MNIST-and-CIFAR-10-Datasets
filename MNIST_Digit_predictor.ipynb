{
  "nbformat": 4,
  "nbformat_minor": 0,
  "metadata": {
    "colab": {
      "provenance": []
    },
    "kernelspec": {
      "name": "python3",
      "display_name": "Python 3"
    },
    "language_info": {
      "name": "python"
    }
  },
  "cells": [
    {
      "cell_type": "code",
      "execution_count": 6,
      "metadata": {
        "id": "rnO5OpsCbePY"
      },
      "outputs": [],
      "source": [
        "from torchvision import datasets\n",
        "from torchvision.transforms import ToTensor"
      ]
    },
    {
      "cell_type": "code",
      "source": [
        "train_data = datasets.MNIST(\n",
        "    root='data',\n",
        "    train=True,\n",
        "    transform=ToTensor(),\n",
        "    download=True\n",
        ")\n",
        "test_data = datasets.MNIST(\n",
        "    root='data',\n",
        "    train=False,\n",
        "    download=True,\n",
        "    transform=ToTensor())"
      ],
      "metadata": {
        "colab": {
          "base_uri": "https://localhost:8080/"
        },
        "id": "8b3MYM0lbfIN",
        "outputId": "5fcb75a9-3499-4d9d-f564-0a415b806877"
      },
      "execution_count": 7,
      "outputs": [
        {
          "output_type": "stream",
          "name": "stderr",
          "text": [
            "100%|██████████| 9.91M/9.91M [00:00<00:00, 57.7MB/s]\n",
            "100%|██████████| 28.9k/28.9k [00:00<00:00, 1.68MB/s]\n",
            "100%|██████████| 1.65M/1.65M [00:00<00:00, 14.2MB/s]\n",
            "100%|██████████| 4.54k/4.54k [00:00<00:00, 6.42MB/s]\n"
          ]
        }
      ]
    },
    {
      "cell_type": "code",
      "source": [
        "train_data"
      ],
      "metadata": {
        "colab": {
          "base_uri": "https://localhost:8080/"
        },
        "id": "vNivd4RMb0CL",
        "outputId": "0342c87f-0114-4c7e-c618-fa8e7df10508"
      },
      "execution_count": 8,
      "outputs": [
        {
          "output_type": "execute_result",
          "data": {
            "text/plain": [
              "Dataset MNIST\n",
              "    Number of datapoints: 60000\n",
              "    Root location: data\n",
              "    Split: Train\n",
              "    StandardTransform\n",
              "Transform: ToTensor()"
            ]
          },
          "metadata": {},
          "execution_count": 8
        }
      ]
    },
    {
      "cell_type": "code",
      "source": [
        "test_data"
      ],
      "metadata": {
        "colab": {
          "base_uri": "https://localhost:8080/"
        },
        "id": "-oBWUonEdWYS",
        "outputId": "c57ef84d-043d-49ea-b10c-6125632b1430"
      },
      "execution_count": 9,
      "outputs": [
        {
          "output_type": "execute_result",
          "data": {
            "text/plain": [
              "Dataset MNIST\n",
              "    Number of datapoints: 10000\n",
              "    Root location: data\n",
              "    Split: Test\n",
              "    StandardTransform\n",
              "Transform: ToTensor()"
            ]
          },
          "metadata": {},
          "execution_count": 9
        }
      ]
    },
    {
      "cell_type": "code",
      "source": [
        "train_data.data.shape"
      ],
      "metadata": {
        "colab": {
          "base_uri": "https://localhost:8080/"
        },
        "id": "FymfQzY9dbss",
        "outputId": "7bc4145b-76d5-42a3-f20c-c27aa4aced15"
      },
      "execution_count": 10,
      "outputs": [
        {
          "output_type": "execute_result",
          "data": {
            "text/plain": [
              "torch.Size([60000, 28, 28])"
            ]
          },
          "metadata": {},
          "execution_count": 10
        }
      ]
    },
    {
      "cell_type": "code",
      "source": [
        "test_data.data.shape"
      ],
      "metadata": {
        "colab": {
          "base_uri": "https://localhost:8080/"
        },
        "id": "3mhyCVHpdoUq",
        "outputId": "b7e85b63-cab5-4f75-8f2a-35d313df487f"
      },
      "execution_count": 11,
      "outputs": [
        {
          "output_type": "execute_result",
          "data": {
            "text/plain": [
              "torch.Size([10000, 28, 28])"
            ]
          },
          "metadata": {},
          "execution_count": 11
        }
      ]
    },
    {
      "cell_type": "code",
      "source": [
        "from torch.utils.data import DataLoader\n",
        "\n",
        "loaders = {\n",
        "    'train': DataLoader(train_data,\n",
        "                        batch_size=100,\n",
        "                        shuffle=True,\n",
        "                        num_workers=1),\n",
        "    'test': DataLoader(test_data,\n",
        "                       batch_size=100,\n",
        "                       shuffle=True,\n",
        "                       num_workers=1),\n",
        "}"
      ],
      "metadata": {
        "id": "-FduhaKJd0ee"
      },
      "execution_count": 13,
      "outputs": []
    },
    {
      "cell_type": "code",
      "source": [
        "loaders"
      ],
      "metadata": {
        "colab": {
          "base_uri": "https://localhost:8080/"
        },
        "id": "_qYIg2ege5Eu",
        "outputId": "98a519c0-aa4b-43fb-9918-ca84048fc34e"
      },
      "execution_count": 14,
      "outputs": [
        {
          "output_type": "execute_result",
          "data": {
            "text/plain": [
              "{'train': <torch.utils.data.dataloader.DataLoader at 0x7bec67647b10>,\n",
              " 'test': <torch.utils.data.dataloader.DataLoader at 0x7bec66be8a50>}"
            ]
          },
          "metadata": {},
          "execution_count": 14
        }
      ]
    },
    {
      "cell_type": "code",
      "source": [
        "import torch.nn as nn\n",
        "import  torch.nn.functional as F\n",
        "import torch.optim as optim\n",
        "\n",
        "class CNN(nn.Module):\n",
        "    def __init__(self):\n",
        "        super(CNN, self).__init__()\n",
        "\n",
        "        self.conv1 = nn.Conv2d(1,10, kernel_size=5)\n",
        "        self.conv2 = nn.Conv2d(10,20, kernel_size=5)\n",
        "        self.conv2_drop = nn.Dropout2d()\n",
        "        self.fc1 = nn.Linear(320, 50)\n",
        "        self.fc2 = nn.Linear(50, 10)\n",
        "\n",
        "    def forward(self, x):\n",
        "        x = F.relu(F.max_pool2d(self.conv1(x), 2))\n",
        "        x = F.relu(F.max_pool2d(self.conv2_drop(self.conv2(x)), 2))\n",
        "        x = x.view(-1, 320)\n",
        "        x = F.relu(self.fc1(x))\n",
        "        x = F.dropout(x, training=self.training)\n",
        "        x = self.fc2(x)\n",
        "\n",
        "        return F.softmax(x)"
      ],
      "metadata": {
        "id": "QFeK_uHzfA2y"
      },
      "execution_count": 15,
      "outputs": []
    },
    {
      "cell_type": "code",
      "source": [
        "import torch\n",
        "\n",
        "device = torch.device(\"cuda\" if torch.cuda.is_available() else \"cpu\")\n",
        "\n",
        "model = CNN().to(device)\n",
        "\n",
        "optimizer = optim.Adam(model.parameters(), lr=0.001)\n",
        "\n",
        "loss_fn = nn.CrossEntropyLoss()\n",
        "\n",
        "def train(epoch):\n",
        "    model.train()\n",
        "    for batch_idx, (data, target) in enumerate(loaders['train']):\n",
        "        data, target = data.to(device), target.to(device)\n",
        "        optimizer.zero_grad()\n",
        "        output = model(data)\n",
        "        loss = loss_fn(output, target)\n",
        "        loss.backward()\n",
        "        optimizer.step()\n",
        "\n",
        "        if batch_idx % 100 == 0:\n",
        "            print(f\"Train Epoch: {epoch} [{batch_idx * len(data)}/{len(loaders['train'].dataset)} ({100. * batch_idx / len(loaders['train']):.0f}%)]\\tLoss: {loss.item():.6f}\")\n",
        "\n",
        "def test():\n",
        "    model.eval()\n",
        "\n",
        "    test_loss = 0\n",
        "    correct = 0\n",
        "\n",
        "    with torch.no_grad():\n",
        "        for data, target in loaders['test']:\n",
        "            data, target = data.to(device), target.to(device)\n",
        "            output = model(data)\n",
        "            test_loss += loss_fn(output, target).item()\n",
        "            pred = output.data.max(1, keepdim=True)[1]\n",
        "            correct += pred.eq(target.data.view_as(pred)).sum().item()\n",
        "\n",
        "    test_loss /= len(loaders['test'].dataset)\n",
        "    print(f\"Test set: Average loss: {test_loss:.4f}, Accuracy: {correct}/{len(loaders['test'].dataset)} ({100. * correct / len(loaders['test'].dataset):.0f}%\\n)\")\n"
      ],
      "metadata": {
        "id": "4YVMrgr7hsBf"
      },
      "execution_count": 16,
      "outputs": []
    },
    {
      "cell_type": "code",
      "source": [
        "for epoch in range(1, 11):\n",
        "    train(epoch)\n",
        "    test()"
      ],
      "metadata": {
        "colab": {
          "base_uri": "https://localhost:8080/"
        },
        "id": "93qH5i7YoMKZ",
        "outputId": "3ba658f8-fa86-41c8-b805-044ce8731714"
      },
      "execution_count": 17,
      "outputs": [
        {
          "output_type": "stream",
          "name": "stderr",
          "text": [
            "<ipython-input-15-7bc52cd5143d>:23: UserWarning: Implicit dimension choice for softmax has been deprecated. Change the call to include dim=X as an argument.\n",
            "  return F.softmax(x)\n"
          ]
        },
        {
          "output_type": "stream",
          "name": "stdout",
          "text": [
            "Train Epoch: 1 [0/60000 (0%)]\tLoss: 2.303431\n",
            "Train Epoch: 1 [10000/60000 (17%)]\tLoss: 1.848088\n",
            "Train Epoch: 1 [20000/60000 (33%)]\tLoss: 1.694854\n",
            "Train Epoch: 1 [30000/60000 (50%)]\tLoss: 1.613943\n",
            "Train Epoch: 1 [40000/60000 (67%)]\tLoss: 1.681165\n",
            "Train Epoch: 1 [50000/60000 (83%)]\tLoss: 1.698466\n",
            "Test set: Average loss: 0.0161, Accuracy: 8509/10000 (85%\n",
            ")\n",
            "Train Epoch: 2 [0/60000 (0%)]\tLoss: 1.652748\n",
            "Train Epoch: 2 [10000/60000 (17%)]\tLoss: 1.693208\n",
            "Train Epoch: 2 [20000/60000 (33%)]\tLoss: 1.646600\n",
            "Train Epoch: 2 [30000/60000 (50%)]\tLoss: 1.713583\n",
            "Train Epoch: 2 [40000/60000 (67%)]\tLoss: 1.626772\n",
            "Train Epoch: 2 [50000/60000 (83%)]\tLoss: 1.583148\n",
            "Test set: Average loss: 0.0152, Accuracy: 9452/10000 (95%\n",
            ")\n",
            "Train Epoch: 3 [0/60000 (0%)]\tLoss: 1.589575\n",
            "Train Epoch: 3 [10000/60000 (17%)]\tLoss: 1.575099\n",
            "Train Epoch: 3 [20000/60000 (33%)]\tLoss: 1.574300\n",
            "Train Epoch: 3 [30000/60000 (50%)]\tLoss: 1.537104\n",
            "Train Epoch: 3 [40000/60000 (67%)]\tLoss: 1.542554\n",
            "Train Epoch: 3 [50000/60000 (83%)]\tLoss: 1.565709\n",
            "Test set: Average loss: 0.0151, Accuracy: 9533/10000 (95%\n",
            ")\n",
            "Train Epoch: 4 [0/60000 (0%)]\tLoss: 1.552324\n",
            "Train Epoch: 4 [10000/60000 (17%)]\tLoss: 1.546256\n",
            "Train Epoch: 4 [20000/60000 (33%)]\tLoss: 1.591096\n",
            "Train Epoch: 4 [30000/60000 (50%)]\tLoss: 1.559769\n",
            "Train Epoch: 4 [40000/60000 (67%)]\tLoss: 1.583349\n",
            "Train Epoch: 4 [50000/60000 (83%)]\tLoss: 1.562806\n",
            "Test set: Average loss: 0.0150, Accuracy: 9573/10000 (96%\n",
            ")\n",
            "Train Epoch: 5 [0/60000 (0%)]\tLoss: 1.541769\n",
            "Train Epoch: 5 [10000/60000 (17%)]\tLoss: 1.556595\n",
            "Train Epoch: 5 [20000/60000 (33%)]\tLoss: 1.555940\n",
            "Train Epoch: 5 [30000/60000 (50%)]\tLoss: 1.560226\n",
            "Train Epoch: 5 [40000/60000 (67%)]\tLoss: 1.512289\n",
            "Train Epoch: 5 [50000/60000 (83%)]\tLoss: 1.590607\n",
            "Test set: Average loss: 0.0150, Accuracy: 9649/10000 (96%\n",
            ")\n",
            "Train Epoch: 6 [0/60000 (0%)]\tLoss: 1.529950\n",
            "Train Epoch: 6 [10000/60000 (17%)]\tLoss: 1.518998\n",
            "Train Epoch: 6 [20000/60000 (33%)]\tLoss: 1.529787\n",
            "Train Epoch: 6 [30000/60000 (50%)]\tLoss: 1.523689\n",
            "Train Epoch: 6 [40000/60000 (67%)]\tLoss: 1.553316\n",
            "Train Epoch: 6 [50000/60000 (83%)]\tLoss: 1.546588\n",
            "Test set: Average loss: 0.0149, Accuracy: 9674/10000 (97%\n",
            ")\n",
            "Train Epoch: 7 [0/60000 (0%)]\tLoss: 1.526491\n",
            "Train Epoch: 7 [10000/60000 (17%)]\tLoss: 1.568670\n",
            "Train Epoch: 7 [20000/60000 (33%)]\tLoss: 1.564720\n",
            "Train Epoch: 7 [30000/60000 (50%)]\tLoss: 1.524355\n",
            "Train Epoch: 7 [40000/60000 (67%)]\tLoss: 1.486863\n",
            "Train Epoch: 7 [50000/60000 (83%)]\tLoss: 1.542863\n",
            "Test set: Average loss: 0.0149, Accuracy: 9696/10000 (97%\n",
            ")\n",
            "Train Epoch: 8 [0/60000 (0%)]\tLoss: 1.525741\n",
            "Train Epoch: 8 [10000/60000 (17%)]\tLoss: 1.536940\n",
            "Train Epoch: 8 [20000/60000 (33%)]\tLoss: 1.528651\n",
            "Train Epoch: 8 [30000/60000 (50%)]\tLoss: 1.540742\n",
            "Train Epoch: 8 [40000/60000 (67%)]\tLoss: 1.514038\n",
            "Train Epoch: 8 [50000/60000 (83%)]\tLoss: 1.540275\n",
            "Test set: Average loss: 0.0149, Accuracy: 9718/10000 (97%\n",
            ")\n",
            "Train Epoch: 9 [0/60000 (0%)]\tLoss: 1.558080\n",
            "Train Epoch: 9 [10000/60000 (17%)]\tLoss: 1.532376\n",
            "Train Epoch: 9 [20000/60000 (33%)]\tLoss: 1.522462\n",
            "Train Epoch: 9 [30000/60000 (50%)]\tLoss: 1.509218\n",
            "Train Epoch: 9 [40000/60000 (67%)]\tLoss: 1.541106\n",
            "Train Epoch: 9 [50000/60000 (83%)]\tLoss: 1.548315\n",
            "Test set: Average loss: 0.0149, Accuracy: 9733/10000 (97%\n",
            ")\n",
            "Train Epoch: 10 [0/60000 (0%)]\tLoss: 1.543288\n",
            "Train Epoch: 10 [10000/60000 (17%)]\tLoss: 1.506778\n",
            "Train Epoch: 10 [20000/60000 (33%)]\tLoss: 1.541789\n",
            "Train Epoch: 10 [30000/60000 (50%)]\tLoss: 1.539863\n",
            "Train Epoch: 10 [40000/60000 (67%)]\tLoss: 1.562726\n",
            "Train Epoch: 10 [50000/60000 (83%)]\tLoss: 1.523431\n",
            "Test set: Average loss: 0.0149, Accuracy: 9742/10000 (97%\n",
            ")\n"
          ]
        }
      ]
    },
    {
      "cell_type": "code",
      "source": [
        "device"
      ],
      "metadata": {
        "colab": {
          "base_uri": "https://localhost:8080/"
        },
        "id": "s3jZNmEFopAF",
        "outputId": "64730beb-f268-43ef-c3e0-7e14f67afead"
      },
      "execution_count": 18,
      "outputs": [
        {
          "output_type": "execute_result",
          "data": {
            "text/plain": [
              "device(type='cpu')"
            ]
          },
          "metadata": {},
          "execution_count": 18
        }
      ]
    },
    {
      "cell_type": "code",
      "source": [
        "import matplotlib.pyplot as plt\n",
        "\n",
        "model.eval()\n",
        "\n",
        "data, target = test_data[5]\n",
        "\n",
        "data = data.unsqueeze(0).to(device)\n",
        "\n",
        "output = model(data)\n",
        "\n",
        "prediction = output.argmax(dim =1, keepdim=True).item()\n",
        "\n",
        "print(f\"Prediction: {prediction}\")\n",
        "image = data.squeeze(0).squeeze(0).cpu().numpy()\n",
        "\n",
        "plt.imshow(image, cmap='gray')\n",
        "plt.show()"
      ],
      "metadata": {
        "colab": {
          "base_uri": "https://localhost:8080/",
          "height": 482
        },
        "id": "-AA0X0R5p13o",
        "outputId": "c4557786-6808-4fb7-b71a-0481d30abe51"
      },
      "execution_count": 25,
      "outputs": [
        {
          "output_type": "stream",
          "name": "stdout",
          "text": [
            "Prediction: 1\n"
          ]
        },
        {
          "output_type": "stream",
          "name": "stderr",
          "text": [
            "<ipython-input-15-7bc52cd5143d>:23: UserWarning: Implicit dimension choice for softmax has been deprecated. Change the call to include dim=X as an argument.\n",
            "  return F.softmax(x)\n"
          ]
        },
        {
          "output_type": "display_data",
          "data": {
            "text/plain": [
              "<Figure size 640x480 with 1 Axes>"
            ],
            "image/png": "[encoded data removed]"
          },
          "metadata": {}
        }
      ]
    },
    {
      "cell_type": "code",
      "source": [],
      "metadata": {
        "id": "1Srpv7xarWo-"
      },
      "execution_count": null,
      "outputs": []
    }
  ]
}